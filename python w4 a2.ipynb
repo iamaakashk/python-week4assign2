{
 "cells": [
  {
   "cell_type": "code",
   "execution_count": 1,
   "id": "434b8f88-7370-4cd0-9754-d575f5499b6e",
   "metadata": {},
   "outputs": [],
   "source": [
    "#Q1"
   ]
  },
  {
   "cell_type": "code",
   "execution_count": 2,
   "id": "252d4c3c-ec08-4cf4-b94c-7f75839c1ab5",
   "metadata": {},
   "outputs": [],
   "source": [
    "class pwskills :\n",
    "    \n",
    "    def welcome_msg(self):     #self argument is always passed to nulify the error\n",
    "        print(\"welcome to pwskills enjoy learning\")"
   ]
  },
  {
   "cell_type": "code",
   "execution_count": 3,
   "id": "770706eb-e92c-4045-8c75-aa8d406e0952",
   "metadata": {},
   "outputs": [],
   "source": [
    "soham=pwskills()"
   ]
  },
  {
   "cell_type": "code",
   "execution_count": 5,
   "id": "f41a9a66-86f4-4d4b-8ce0-34737b5a7d5a",
   "metadata": {},
   "outputs": [
    {
     "name": "stdout",
     "output_type": "stream",
     "text": [
      "welcome to pwskills enjoy learning\n"
     ]
    }
   ],
   "source": [
    "soham.welcome_msg()"
   ]
  },
  {
   "cell_type": "code",
   "execution_count": 7,
   "id": "704f9112-32e3-4061-b11f-2bca6a419622",
   "metadata": {},
   "outputs": [
    {
     "data": {
      "text/plain": [
       "'in above example PWSKILLS is class and the soham is object of class pwskills'"
      ]
     },
     "execution_count": 7,
     "metadata": {},
     "output_type": "execute_result"
    }
   ],
   "source": [
    "\"\"\"in above example PWSKILLS is class and the soham is object of class pwskills\"\"\""
   ]
  },
  {
   "cell_type": "code",
   "execution_count": 8,
   "id": "59bc1928-8b99-4640-a96b-5216685d2ea7",
   "metadata": {},
   "outputs": [],
   "source": [
    "#q2"
   ]
  },
  {
   "cell_type": "code",
   "execution_count": 10,
   "id": "cf99b9e0-0285-405c-9a23-41e763a4fb42",
   "metadata": {},
   "outputs": [
    {
     "data": {
      "text/plain": [
       "'Abstraction, Encapsulation, Inheritance, Polymorphism are the 4 pillars of OOPS '"
      ]
     },
     "execution_count": 10,
     "metadata": {},
     "output_type": "execute_result"
    }
   ],
   "source": [
    "\"\"\"Abstraction, Encapsulation, Inheritance, Polymorphism are the 4 pillars of OOPS \"\"\""
   ]
  },
  {
   "cell_type": "code",
   "execution_count": 16,
   "id": "9ea1ccaf-39dd-4be8-9fbe-f00078c73202",
   "metadata": {},
   "outputs": [],
   "source": [
    "#q3 and #q4"
   ]
  },
  {
   "cell_type": "code",
   "execution_count": 18,
   "id": "5b0553d5-3e69-4998-ba70-2ce3413459fa",
   "metadata": {},
   "outputs": [
    {
     "data": {
      "text/plain": [
       "' following example explains and showcases the use of INIT AND SELF '"
      ]
     },
     "execution_count": 18,
     "metadata": {},
     "output_type": "execute_result"
    }
   ],
   "source": [
    "\"\"\" following example explains and showcases the use of INIT AND SELF \"\"\""
   ]
  },
  {
   "cell_type": "code",
   "execution_count": 19,
   "id": "6f44d12c-1b0f-40c8-8d3e-6459037290fa",
   "metadata": {},
   "outputs": [],
   "source": [
    "class pwskills1 : #init is intialization it is a inbuilt function used to pass the data  \n",
    "                  #when you write init then it is mendetory to pass the arguments \n",
    "    def __init__(self ,phone_number , email_id , student_id ):\n",
    "        self.phone_number = phone_number                       #self reserves the data i.e validate it as class's data \n",
    "        self.email_id = email_id   #its not,mendetory to write self you can write anything but have to pass that argument\n",
    "        self.student_id = student_id\n",
    "    \n",
    "    def return_student_details(self) : \n",
    "        return self.student_id ,self.phone_number ,self.email_id"
   ]
  },
  {
   "cell_type": "code",
   "execution_count": 20,
   "id": "6270c669-e344-475d-95e5-d28d00e6d6d3",
   "metadata": {},
   "outputs": [],
   "source": [
    "ram=pwskills1(2893217983,\"ram@gmail.com\",\"m2011\")"
   ]
  },
  {
   "cell_type": "code",
   "execution_count": 21,
   "id": "c0247e59-8ce0-4752-8821-5e29896aafd4",
   "metadata": {},
   "outputs": [
    {
     "data": {
      "text/plain": [
       "('m2011', 2893217983, 'ram@gmail.com')"
      ]
     },
     "execution_count": 21,
     "metadata": {},
     "output_type": "execute_result"
    }
   ],
   "source": [
    "ram.return_student_details()"
   ]
  },
  {
   "cell_type": "code",
   "execution_count": 22,
   "id": "8fdf9723-d012-4a5c-a01e-372e22786b32",
   "metadata": {},
   "outputs": [],
   "source": [
    "#q5"
   ]
  },
  {
   "cell_type": "code",
   "execution_count": 25,
   "id": "6e040759-85ee-4733-ab38-e70baf3e390e",
   "metadata": {},
   "outputs": [],
   "source": [
    "class test :\n",
    "    \n",
    "    def test_method(self) :\n",
    "        \n",
    "        return \" this is my first class\"\n",
    "    "
   ]
  },
  {
   "cell_type": "code",
   "execution_count": 26,
   "id": "15e3a6d3-ec83-4d60-956c-cf9dc9222523",
   "metadata": {},
   "outputs": [],
   "source": [
    "\n",
    "    class child_test(test) :\n",
    "        pass"
   ]
  },
  {
   "cell_type": "code",
   "execution_count": 27,
   "id": "76acc87c-df61-484a-b515-5e0de96277c7",
   "metadata": {},
   "outputs": [],
   "source": [
    "sample_obj = child_test()"
   ]
  },
  {
   "cell_type": "code",
   "execution_count": 28,
   "id": "78f47e31-7a75-4b86-957a-4dde224d3508",
   "metadata": {},
   "outputs": [
    {
     "data": {
      "text/plain": [
       "' this is my first class'"
      ]
     },
     "execution_count": 28,
     "metadata": {},
     "output_type": "execute_result"
    }
   ],
   "source": [
    "sample_obj.test_method()"
   ]
  },
  {
   "cell_type": "code",
   "execution_count": 30,
   "id": "2bbe3040-185b-4a50-9c3c-fe5f3b78a347",
   "metadata": {},
   "outputs": [
    {
     "data": {
      "text/plain": [
       "'see in above example the existing class we used in another class and when i call that class\\n automatically that previous class got invoked\\n this is inheritance as we are inheriting the properties from parent class to chiled class  '"
      ]
     },
     "execution_count": 30,
     "metadata": {},
     "output_type": "execute_result"
    }
   ],
   "source": [
    "\"\"\"see in above example the existing class we used in another class and when i call that class\n",
    " automatically that previous class got invoked\n",
    " this is inheritance as we are inheriting the properties from parent class to chiled class  \"\"\""
   ]
  },
  {
   "cell_type": "code",
   "execution_count": 31,
   "id": "6b00ee8b-d556-47c7-9564-4ede3b224d7d",
   "metadata": {},
   "outputs": [],
   "source": [
    "#multi lavel inheritance :- \n",
    "# class 1 then class 2 but class 2 has properties from class 1 also\n",
    "# similarly class 3 but having properties from previous 2 classes this goes on and on "
   ]
  },
  {
   "cell_type": "code",
   "execution_count": 32,
   "id": "6998bf22-0a08-409a-9564-dfef302dfc33",
   "metadata": {},
   "outputs": [],
   "source": [
    "class class1 :\n",
    "    def test_class1(self) : \n",
    "        print(\"this is my class1 \" )"
   ]
  },
  {
   "cell_type": "code",
   "execution_count": 33,
   "id": "cc108cba-9cfd-485d-a320-55f12b2c7b51",
   "metadata": {},
   "outputs": [],
   "source": [
    "class class2(class1) : \n",
    "    def test_class2(self) : \n",
    "        print(\"this is my class2\" )"
   ]
  },
  {
   "cell_type": "code",
   "execution_count": 34,
   "id": "160cd3b2-7359-4ba5-b1dd-d54124052dc4",
   "metadata": {},
   "outputs": [],
   "source": [
    "class class3(class2) : \n",
    "    def test_class3(self) : \n",
    "        print(\"this is my class3 \")"
   ]
  },
  {
   "cell_type": "code",
   "execution_count": 35,
   "id": "203e8bda-076f-414f-ba96-d2b8687931c4",
   "metadata": {},
   "outputs": [],
   "source": [
    "class class3 :\n",
    "    pass "
   ]
  },
  {
   "cell_type": "code",
   "execution_count": 36,
   "id": "0cb89b79-0d63-4c5e-9d4d-0ddfdfb29b3c",
   "metadata": {},
   "outputs": [],
   "source": [
    "obj_class3 = class3()"
   ]
  },
  {
   "cell_type": "code",
   "execution_count": null,
   "id": "03d78dfd-233a-4c99-abb5-dec648489474",
   "metadata": {},
   "outputs": [],
   "source": [
    "obj_class3."
   ]
  },
  {
   "cell_type": "code",
   "execution_count": 38,
   "id": "eb359486-16e7-43d5-945b-2b035b884027",
   "metadata": {},
   "outputs": [],
   "source": [
    "# multiple inheritance "
   ]
  },
  {
   "cell_type": "code",
   "execution_count": 39,
   "id": "5b963ae4-27d5-4b71-8294-af85c29c7c74",
   "metadata": {},
   "outputs": [],
   "source": [
    "# youll be able to inherit the properties from all previous classes together"
   ]
  },
  {
   "cell_type": "code",
   "execution_count": 40,
   "id": "79530139-1daf-4d27-ad9c-79c797b78580",
   "metadata": {},
   "outputs": [],
   "source": [
    "class class1:\n",
    "    def test_class1(self) : \n",
    "        print(\"this is my class 1\" )"
   ]
  },
  {
   "cell_type": "code",
   "execution_count": 41,
   "id": "ba128f47-131e-4ac9-9c7f-48060ca53d48",
   "metadata": {},
   "outputs": [],
   "source": [
    "class class2 :\n",
    "    def test_class2(self) : \n",
    "        print(\"this is my class 2\")"
   ]
  },
  {
   "cell_type": "code",
   "execution_count": 42,
   "id": "13afb3a5-4133-4e54-84bf-e89c81b78ef0",
   "metadata": {},
   "outputs": [],
   "source": [
    "class class3 (class1, class2) :\n",
    "    pass"
   ]
  },
  {
   "cell_type": "code",
   "execution_count": 43,
   "id": "d0b4f7b5-d122-41e1-a127-d1c34c326019",
   "metadata": {},
   "outputs": [],
   "source": [
    "sample_obj_class3 = class3()"
   ]
  },
  {
   "cell_type": "code",
   "execution_count": 44,
   "id": "e33b203d-099a-4fd6-99c9-eb8fe3682337",
   "metadata": {},
   "outputs": [
    {
     "name": "stdout",
     "output_type": "stream",
     "text": [
      "this is my class 1\n"
     ]
    }
   ],
   "source": [
    "sample_obj_class3.test_class1()"
   ]
  },
  {
   "cell_type": "code",
   "execution_count": 45,
   "id": "68d1eb6a-342c-42de-a29e-f2e0b74e7f66",
   "metadata": {},
   "outputs": [
    {
     "name": "stdout",
     "output_type": "stream",
     "text": [
      "this is my class 2\n"
     ]
    }
   ],
   "source": [
    "sample_obj_class3.test_class2()"
   ]
  },
  {
   "cell_type": "code",
   "execution_count": null,
   "id": "906bbe17-3072-426d-b983-cdfd92894bcc",
   "metadata": {},
   "outputs": [],
   "source": []
  }
 ],
 "metadata": {
  "kernelspec": {
   "display_name": "Python 3 (ipykernel)",
   "language": "python",
   "name": "python3"
  },
  "language_info": {
   "codemirror_mode": {
    "name": "ipython",
    "version": 3
   },
   "file_extension": ".py",
   "mimetype": "text/x-python",
   "name": "python",
   "nbconvert_exporter": "python",
   "pygments_lexer": "ipython3",
   "version": "3.10.8"
  }
 },
 "nbformat": 4,
 "nbformat_minor": 5
}
